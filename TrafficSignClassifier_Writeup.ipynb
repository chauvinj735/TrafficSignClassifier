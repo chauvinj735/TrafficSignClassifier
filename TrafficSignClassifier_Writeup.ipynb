{
 "cells": [
  {
   "cell_type": "markdown",
   "metadata": {},
   "source": [
    "# Traffic Sign Classifier Project - John Chauvin"
   ]
  },
  {
   "cell_type": "markdown",
   "metadata": {},
   "source": [
    "# 1. Data Set Summary and Exploration"
   ]
  },
  {
   "cell_type": "markdown",
   "metadata": {},
   "source": [
    "I used numpy.shape to determine the number of training and testing samples, and the image data shape. I used the numpy.unique function to determine the unique class labels, and then used the python len() function to measure the length of this set and determine the number of classes. Here are the results:\n",
    "\n",
    "Number of training samples: 34,799\n",
    "\n",
    "Number of test samples: 12,630\n",
    "\n",
    "Image data shape: 32 x 32\n",
    "\n",
    "Number of classes: 43"
   ]
  },
  {
   "cell_type": "markdown",
   "metadata": {},
   "source": [
    "# 2. Exploratory Visualization of the Dataset"
   ]
  },
  {
   "cell_type": "markdown",
   "metadata": {},
   "source": [
    "I used the matplotlib.hist() function to generate histograms of the training, validation, and test sets. These are shown below. The classes are clearly very unevenly represented within each set, with some classes have many examples and other classes having very few. This is a big concern when used with a metric such as mean cross entropy since the model can simply focus on those classes with many examples and completely ignore the ones with few examples to achieve an overall low mean cross entropy. This is where other metrics (such precision and recall) might be more appropriate. Another option would be to supplement these sets with other examples, including rotated versions of the existing examples. For this project, I did not do anything to change the distributions within these sets.\n",
    "\n",
    "![alt text] (TrainingImage_0.png?raw=True \"Title\")\n",
    "\n",
    "![alt text] (TrainingImage_1.png?raw=True \"Title\")\n",
    "\n",
    "![alt text] (TrainingImage_2.png?raw=True \"Title\")\n",
    "\n",
    "![alt text] (TrainingImage_3.png?raw=True \"Title\")\n",
    "\n",
    "![alt text] (TrainingImage_4.png?raw=True \"Title\")"
   ]
  },
  {
   "cell_type": "code",
   "execution_count": null,
   "metadata": {
    "collapsed": true
   },
   "outputs": [],
   "source": []
  }
 ],
 "metadata": {
  "kernelspec": {
   "display_name": "Python 3",
   "language": "python",
   "name": "python3"
  },
  "language_info": {
   "codemirror_mode": {
    "name": "ipython",
    "version": 3
   },
   "file_extension": ".py",
   "mimetype": "text/x-python",
   "name": "python",
   "nbconvert_exporter": "python",
   "pygments_lexer": "ipython3",
   "version": "3.5.2"
  },
  "widgets": {
   "state": {},
   "version": "1.1.2"
  }
 },
 "nbformat": 4,
 "nbformat_minor": 2
}
